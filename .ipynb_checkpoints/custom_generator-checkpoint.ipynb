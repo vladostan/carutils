{
 "cells": [
  {
   "cell_type": "code",
   "execution_count": 1,
   "metadata": {},
   "outputs": [],
   "source": [
    "import os\n",
    "import matplotlib.pylab as plt\n",
    "from glob import glob\n",
    "import numpy as np"
   ]
  },
  {
   "cell_type": "code",
   "execution_count": 67,
   "metadata": {},
   "outputs": [
    {
     "name": "stdout",
     "output_type": "stream",
     "text": [
      "Datasets used: ['C:\\\\Users\\\\Владислав\\\\Desktop\\\\carutils\\\\data\\\\images/um']\n",
      "\n"
     ]
    }
   ],
   "source": [
    "PATH = os.path.abspath('data')\n",
    "\n",
    "SOURCE_IMAGES = [os.path.join(PATH, \"images/um\")]\n",
    "\n",
    "images = []\n",
    "labels = []\n",
    "\n",
    "for si in SOURCE_IMAGES:\n",
    "    images.extend(glob(os.path.join(si, \"*.png\")))\n",
    "    labels.extend(glob(os.path.join(si.replace(\"images/\",\"labels/lane/\"), \"*.png\")))\n",
    "    \n",
    "print(\"Datasets used: {}\\n\".format(SOURCE_IMAGES))\n",
    "\n",
    "images.sort()\n",
    "labels.sort()"
   ]
  },
  {
   "cell_type": "code",
   "execution_count": 68,
   "metadata": {},
   "outputs": [
    {
     "name": "stdout",
     "output_type": "stream",
     "text": [
      "95\n",
      "95\n"
     ]
    }
   ],
   "source": [
    "print(len(images))\n",
    "print(len(labels))"
   ]
  },
  {
   "cell_type": "code",
   "execution_count": 69,
   "metadata": {},
   "outputs": [],
   "source": [
    "def get_image(path):\n",
    "    \n",
    "    image = plt.imread(path)\n",
    "    \n",
    "    return(np.asarray(image[:320,:1152]))"
   ]
  },
  {
   "cell_type": "code",
   "execution_count": 70,
   "metadata": {},
   "outputs": [],
   "source": [
    "def get_label(path):\n",
    "\n",
    "    label = plt.imread(path, 0)\n",
    "    \n",
    "    return(np.asarray(label[:320,:1152]))"
   ]
  },
  {
   "cell_type": "code",
   "execution_count": 71,
   "metadata": {},
   "outputs": [
    {
     "name": "stdout",
     "output_type": "stream",
     "text": [
      "(320, 1152, 3)\n",
      "(320, 1152, 3)\n",
      "(320, 1152, 3)\n",
      "(320, 1152, 3)\n",
      "(320, 1152, 3)\n",
      "(320, 1152, 3)\n",
      "(320, 1152, 3)\n",
      "(320, 1152, 3)\n",
      "(320, 1152, 3)\n",
      "(320, 1152, 3)\n",
      "(320, 1152, 3)\n",
      "(320, 1152, 3)\n",
      "(320, 1152, 3)\n",
      "(320, 1152, 3)\n",
      "(320, 1152, 3)\n",
      "(320, 1152, 3)\n",
      "(320, 1152, 3)\n",
      "(320, 1152, 3)\n",
      "(320, 1152, 3)\n",
      "(320, 1152, 3)\n",
      "(320, 1152, 3)\n",
      "(320, 1152, 3)\n",
      "(320, 1152, 3)\n",
      "(320, 1152, 3)\n",
      "(320, 1152, 3)\n",
      "(320, 1152, 3)\n",
      "(320, 1152, 3)\n",
      "(320, 1152, 3)\n",
      "(320, 1152, 3)\n",
      "(320, 1152, 3)\n",
      "(320, 1152, 3)\n",
      "(320, 1152, 3)\n",
      "(320, 1152, 3)\n",
      "(320, 1152, 3)\n",
      "(320, 1152, 3)\n",
      "(320, 1152, 3)\n",
      "(320, 1152, 3)\n",
      "(320, 1152, 3)\n",
      "(320, 1152, 3)\n",
      "(320, 1152, 3)\n",
      "(320, 1152, 3)\n",
      "(320, 1152, 3)\n",
      "(320, 1152, 3)\n",
      "(320, 1152, 3)\n",
      "(320, 1152, 3)\n",
      "(320, 1152, 3)\n",
      "(320, 1152, 3)\n",
      "(320, 1152, 3)\n",
      "(320, 1152, 3)\n",
      "(320, 1152, 3)\n",
      "(320, 1152, 3)\n",
      "(320, 1152, 3)\n",
      "(320, 1152, 3)\n",
      "(320, 1152, 3)\n",
      "(320, 1152, 3)\n",
      "(320, 1152, 3)\n",
      "(320, 1152, 3)\n",
      "(320, 1152, 3)\n",
      "(320, 1152, 3)\n",
      "(320, 1152, 3)\n",
      "(320, 1152, 3)\n",
      "(320, 1152, 3)\n",
      "(320, 1152, 3)\n",
      "(320, 1152, 3)\n",
      "(320, 1152, 3)\n",
      "(320, 1152, 3)\n",
      "(320, 1152, 3)\n",
      "(320, 1152, 3)\n",
      "(320, 1152, 3)\n",
      "(320, 1152, 3)\n",
      "(320, 1152, 3)\n",
      "(320, 1152, 3)\n",
      "(320, 1152, 3)\n",
      "(320, 1152, 3)\n",
      "(320, 1152, 3)\n",
      "(320, 1152, 3)\n",
      "(320, 1152, 3)\n",
      "(320, 1152, 3)\n",
      "(320, 1152, 3)\n",
      "(320, 1152, 3)\n",
      "(320, 1152, 3)\n",
      "(320, 1152, 3)\n",
      "(320, 1152, 3)\n",
      "(320, 1152, 3)\n",
      "(320, 1152, 3)\n",
      "(320, 1152, 3)\n",
      "(320, 1152, 3)\n",
      "(320, 1152, 3)\n",
      "(320, 1152, 3)\n",
      "(320, 1152, 3)\n",
      "(320, 1152, 3)\n",
      "(320, 1152, 3)\n",
      "(320, 1152, 3)\n",
      "(320, 1152, 3)\n",
      "(320, 1152, 3)\n"
     ]
    }
   ],
   "source": [
    "for i in images:\n",
    "    print(get_image(i).shape)"
   ]
  },
  {
   "cell_type": "code",
   "execution_count": 72,
   "metadata": {},
   "outputs": [
    {
     "data": {
      "text/plain": [
       "dtype('float32')"
      ]
     },
     "execution_count": 72,
     "metadata": {},
     "output_type": "execute_result"
    }
   ],
   "source": [
    "img = get_image(images[0])\n",
    "img.dtype"
   ]
  },
  {
   "cell_type": "code",
   "execution_count": 73,
   "metadata": {},
   "outputs": [
    {
     "name": "stdout",
     "output_type": "stream",
     "text": [
      "(320, 1152, 3)\n",
      "(320, 1152, 3)\n"
     ]
    }
   ],
   "source": [
    "print(get_image(images[83]).shape)\n",
    "print(get_image(labels[84]).shape)"
   ]
  },
  {
   "cell_type": "code",
   "execution_count": 74,
   "metadata": {},
   "outputs": [
    {
     "data": {
      "text/plain": [
       "(320, 1152)"
      ]
     },
     "execution_count": 74,
     "metadata": {},
     "output_type": "execute_result"
    }
   ],
   "source": [
    "lbl = get_label(labels[0])\n",
    "lbl.dtype\n",
    "lbl.shape[:2]"
   ]
  },
  {
   "cell_type": "code",
   "execution_count": 75,
   "metadata": {},
   "outputs": [
    {
     "data": {
      "text/plain": [
       "<matplotlib.image.AxesImage at 0x27cb3644e10>"
      ]
     },
     "execution_count": 75,
     "metadata": {},
     "output_type": "execute_result"
    },
    {
     "data": {
      "image/png": "[encoded data removed]",
      "text/plain": [
       "<matplotlib.figure.Figure at 0x27cd4182d68>"
      ]
     },
     "metadata": {},
     "output_type": "display_data"
    }
   ],
   "source": [
    "plt.imshow(lbl)"
   ]
  },
  {
   "cell_type": "code",
   "execution_count": 76,
   "metadata": {},
   "outputs": [],
   "source": [
    "def rgbto2(lbl):\n",
    "    w,h = lbl.shape[:2]\n",
    "    out = np.zeros([w,h],dtype=np.int8)\n",
    "    for i in range(w):\n",
    "        for j in range(h):\n",
    "            if(lbl[i,j,2] == 255):\n",
    "                out[i,j] = 1\n",
    "    return out"
   ]
  },
  {
   "cell_type": "code",
   "execution_count": 112,
   "metadata": {},
   "outputs": [
    {
     "data": {
      "text/plain": [
       "(320, 1152)"
      ]
     },
     "execution_count": 112,
     "metadata": {},
     "output_type": "execute_result"
    }
   ],
   "source": [
    "out = rgbto2(lbl)\n",
    "out.shape"
   ]
  },
  {
   "cell_type": "code",
   "execution_count": 78,
   "metadata": {},
   "outputs": [],
   "source": [
    "def preprocess_input(x):\n",
    "    \n",
    "    # Crop squared image\n",
    "    h, w = x.shape[:2]\n",
    "\n",
    "    x = x[:,(w-h)//2:(w-(w-h)//2),:]\n",
    "    \n",
    "    h, w = x.shape[:2]\n",
    "    \n",
    "    # Split images and masks into batches (optional)\n",
    "    h_t, w_t = (512,512)\n",
    "    split_factor = 4 # We crop this number of smaller images out of one\n",
    "    x_t = np.zeros([split_factor, h_t, w_t, 3], dtype='uint8')\n",
    "    \n",
    "    x_t[0] = x[:h//2,:w//2,:]\n",
    "    x_t[1] = x[:h//2,w//2:w,:]\n",
    "    x_t[2] = x[h//2:h,:w//2,:]\n",
    "    x_t[3] = x[h//2:h,w//2:w,:]\n",
    "    \n",
    "#     x_t = np.float32(x_t/255.)\n",
    "\n",
    "    return(x_t)"
   ]
  },
  {
   "cell_type": "code",
   "execution_count": 79,
   "metadata": {},
   "outputs": [],
   "source": [
    "x = get_image(images[0])"
   ]
  },
  {
   "cell_type": "code",
   "execution_count": 80,
   "metadata": {},
   "outputs": [
    {
     "ename": "ValueError",
     "evalue": "could not broadcast input array from shape (160,160,3) into shape (512,512,3)",
     "output_type": "error",
     "traceback": [
      "\u001b[1;31m---------------------------------------------------------------------------\u001b[0m",
      "\u001b[1;31mValueError\u001b[0m                                Traceback (most recent call last)",
      "\u001b[1;32m<ipython-input-80-470a035fbf63>\u001b[0m in \u001b[0;36m<module>\u001b[1;34m()\u001b[0m\n\u001b[1;32m----> 1\u001b[1;33m \u001b[0mx\u001b[0m \u001b[1;33m=\u001b[0m \u001b[0mpreprocess_input\u001b[0m\u001b[1;33m(\u001b[0m\u001b[0mx\u001b[0m\u001b[1;33m)\u001b[0m\u001b[1;33m\u001b[0m\u001b[0m\n\u001b[0m",
      "\u001b[1;32m<ipython-input-78-03302d22b09c>\u001b[0m in \u001b[0;36mpreprocess_input\u001b[1;34m(x)\u001b[0m\n\u001b[0;32m     13\u001b[0m     \u001b[0mx_t\u001b[0m \u001b[1;33m=\u001b[0m \u001b[0mnp\u001b[0m\u001b[1;33m.\u001b[0m\u001b[0mzeros\u001b[0m\u001b[1;33m(\u001b[0m\u001b[1;33m[\u001b[0m\u001b[0msplit_factor\u001b[0m\u001b[1;33m,\u001b[0m \u001b[0mh_t\u001b[0m\u001b[1;33m,\u001b[0m \u001b[0mw_t\u001b[0m\u001b[1;33m,\u001b[0m \u001b[1;36m3\u001b[0m\u001b[1;33m]\u001b[0m\u001b[1;33m,\u001b[0m \u001b[0mdtype\u001b[0m\u001b[1;33m=\u001b[0m\u001b[1;34m'uint8'\u001b[0m\u001b[1;33m)\u001b[0m\u001b[1;33m\u001b[0m\u001b[0m\n\u001b[0;32m     14\u001b[0m \u001b[1;33m\u001b[0m\u001b[0m\n\u001b[1;32m---> 15\u001b[1;33m     \u001b[0mx_t\u001b[0m\u001b[1;33m[\u001b[0m\u001b[1;36m0\u001b[0m\u001b[1;33m]\u001b[0m \u001b[1;33m=\u001b[0m \u001b[0mx\u001b[0m\u001b[1;33m[\u001b[0m\u001b[1;33m:\u001b[0m\u001b[0mh\u001b[0m\u001b[1;33m//\u001b[0m\u001b[1;36m2\u001b[0m\u001b[1;33m,\u001b[0m\u001b[1;33m:\u001b[0m\u001b[0mw\u001b[0m\u001b[1;33m//\u001b[0m\u001b[1;36m2\u001b[0m\u001b[1;33m,\u001b[0m\u001b[1;33m:\u001b[0m\u001b[1;33m]\u001b[0m\u001b[1;33m\u001b[0m\u001b[0m\n\u001b[0m\u001b[0;32m     16\u001b[0m     \u001b[0mx_t\u001b[0m\u001b[1;33m[\u001b[0m\u001b[1;36m1\u001b[0m\u001b[1;33m]\u001b[0m \u001b[1;33m=\u001b[0m \u001b[0mx\u001b[0m\u001b[1;33m[\u001b[0m\u001b[1;33m:\u001b[0m\u001b[0mh\u001b[0m\u001b[1;33m//\u001b[0m\u001b[1;36m2\u001b[0m\u001b[1;33m,\u001b[0m\u001b[0mw\u001b[0m\u001b[1;33m//\u001b[0m\u001b[1;36m2\u001b[0m\u001b[1;33m:\u001b[0m\u001b[0mw\u001b[0m\u001b[1;33m,\u001b[0m\u001b[1;33m:\u001b[0m\u001b[1;33m]\u001b[0m\u001b[1;33m\u001b[0m\u001b[0m\n\u001b[0;32m     17\u001b[0m     \u001b[0mx_t\u001b[0m\u001b[1;33m[\u001b[0m\u001b[1;36m2\u001b[0m\u001b[1;33m]\u001b[0m \u001b[1;33m=\u001b[0m \u001b[0mx\u001b[0m\u001b[1;33m[\u001b[0m\u001b[0mh\u001b[0m\u001b[1;33m//\u001b[0m\u001b[1;36m2\u001b[0m\u001b[1;33m:\u001b[0m\u001b[0mh\u001b[0m\u001b[1;33m,\u001b[0m\u001b[1;33m:\u001b[0m\u001b[0mw\u001b[0m\u001b[1;33m//\u001b[0m\u001b[1;36m2\u001b[0m\u001b[1;33m,\u001b[0m\u001b[1;33m:\u001b[0m\u001b[1;33m]\u001b[0m\u001b[1;33m\u001b[0m\u001b[0m\n",
      "\u001b[1;31mValueError\u001b[0m: could not broadcast input array from shape (160,160,3) into shape (512,512,3)"
     ]
    }
   ],
   "source": [
    "x = preprocess_input(x)"
   ]
  },
  {
   "cell_type": "code",
   "execution_count": 81,
   "metadata": {},
   "outputs": [
    {
     "data": {
      "text/plain": [
       "(320, 1152, 3)"
      ]
     },
     "execution_count": 81,
     "metadata": {},
     "output_type": "execute_result"
    }
   ],
   "source": [
    "x.shape"
   ]
  },
  {
   "cell_type": "code",
   "execution_count": 82,
   "metadata": {},
   "outputs": [],
   "source": [
    "def preprocess_output(y):\n",
    "    \n",
    "    # Crop squared image\n",
    "    h, w = y.shape[:2]\n",
    "\n",
    "    y = y[:,(w-h)//2:(w-(w-h)//2)]\n",
    "    \n",
    "    h, w = y.shape[:2]\n",
    "    \n",
    "    # Split images and masks into batches (optional)\n",
    "    h_t, w_t = (512,512)\n",
    "    split_factor = 4 # We crop this number of smaller images out of one\n",
    "    y_t = np.zeros([split_factor, h_t, w_t], dtype='uint8')\n",
    "    \n",
    "    y_t[0] = y[:h//2,:w//2]\n",
    "    y_t[1] = y[:h//2,w//2:w]\n",
    "    y_t[2] = y[h//2:h,:w//2]\n",
    "    y_t[3] = y[h//2:h,w//2:w]\n",
    "    \n",
    "#     y_t = to_categorical(y_t, num_classes=9)\n",
    "#     y_t = y_t.reshape(y_t.shape[:3] + (9,))\n",
    "#     y_t = y_t.astype('int8')\n",
    "\n",
    "    return(y_t)"
   ]
  },
  {
   "cell_type": "code",
   "execution_count": 83,
   "metadata": {},
   "outputs": [],
   "source": [
    "y = get_label(labels[0])"
   ]
  },
  {
   "cell_type": "code",
   "execution_count": 84,
   "metadata": {},
   "outputs": [
    {
     "ename": "ValueError",
     "evalue": "could not broadcast input array from shape (160,160,3) into shape (512,512)",
     "output_type": "error",
     "traceback": [
      "\u001b[1;31m---------------------------------------------------------------------------\u001b[0m",
      "\u001b[1;31mValueError\u001b[0m                                Traceback (most recent call last)",
      "\u001b[1;32m<ipython-input-84-b827e333ae66>\u001b[0m in \u001b[0;36m<module>\u001b[1;34m()\u001b[0m\n\u001b[1;32m----> 1\u001b[1;33m \u001b[0my\u001b[0m \u001b[1;33m=\u001b[0m \u001b[0mpreprocess_output\u001b[0m\u001b[1;33m(\u001b[0m\u001b[0my\u001b[0m\u001b[1;33m)\u001b[0m\u001b[1;33m\u001b[0m\u001b[0m\n\u001b[0m",
      "\u001b[1;32m<ipython-input-82-80c7bdbec670>\u001b[0m in \u001b[0;36mpreprocess_output\u001b[1;34m(y)\u001b[0m\n\u001b[0;32m     13\u001b[0m     \u001b[0my_t\u001b[0m \u001b[1;33m=\u001b[0m \u001b[0mnp\u001b[0m\u001b[1;33m.\u001b[0m\u001b[0mzeros\u001b[0m\u001b[1;33m(\u001b[0m\u001b[1;33m[\u001b[0m\u001b[0msplit_factor\u001b[0m\u001b[1;33m,\u001b[0m \u001b[0mh_t\u001b[0m\u001b[1;33m,\u001b[0m \u001b[0mw_t\u001b[0m\u001b[1;33m]\u001b[0m\u001b[1;33m,\u001b[0m \u001b[0mdtype\u001b[0m\u001b[1;33m=\u001b[0m\u001b[1;34m'uint8'\u001b[0m\u001b[1;33m)\u001b[0m\u001b[1;33m\u001b[0m\u001b[0m\n\u001b[0;32m     14\u001b[0m \u001b[1;33m\u001b[0m\u001b[0m\n\u001b[1;32m---> 15\u001b[1;33m     \u001b[0my_t\u001b[0m\u001b[1;33m[\u001b[0m\u001b[1;36m0\u001b[0m\u001b[1;33m]\u001b[0m \u001b[1;33m=\u001b[0m \u001b[0my\u001b[0m\u001b[1;33m[\u001b[0m\u001b[1;33m:\u001b[0m\u001b[0mh\u001b[0m\u001b[1;33m//\u001b[0m\u001b[1;36m2\u001b[0m\u001b[1;33m,\u001b[0m\u001b[1;33m:\u001b[0m\u001b[0mw\u001b[0m\u001b[1;33m//\u001b[0m\u001b[1;36m2\u001b[0m\u001b[1;33m]\u001b[0m\u001b[1;33m\u001b[0m\u001b[0m\n\u001b[0m\u001b[0;32m     16\u001b[0m     \u001b[0my_t\u001b[0m\u001b[1;33m[\u001b[0m\u001b[1;36m1\u001b[0m\u001b[1;33m]\u001b[0m \u001b[1;33m=\u001b[0m \u001b[0my\u001b[0m\u001b[1;33m[\u001b[0m\u001b[1;33m:\u001b[0m\u001b[0mh\u001b[0m\u001b[1;33m//\u001b[0m\u001b[1;36m2\u001b[0m\u001b[1;33m,\u001b[0m\u001b[0mw\u001b[0m\u001b[1;33m//\u001b[0m\u001b[1;36m2\u001b[0m\u001b[1;33m:\u001b[0m\u001b[0mw\u001b[0m\u001b[1;33m]\u001b[0m\u001b[1;33m\u001b[0m\u001b[0m\n\u001b[0;32m     17\u001b[0m     \u001b[0my_t\u001b[0m\u001b[1;33m[\u001b[0m\u001b[1;36m2\u001b[0m\u001b[1;33m]\u001b[0m \u001b[1;33m=\u001b[0m \u001b[0my\u001b[0m\u001b[1;33m[\u001b[0m\u001b[0mh\u001b[0m\u001b[1;33m//\u001b[0m\u001b[1;36m2\u001b[0m\u001b[1;33m:\u001b[0m\u001b[0mh\u001b[0m\u001b[1;33m,\u001b[0m\u001b[1;33m:\u001b[0m\u001b[0mw\u001b[0m\u001b[1;33m//\u001b[0m\u001b[1;36m2\u001b[0m\u001b[1;33m]\u001b[0m\u001b[1;33m\u001b[0m\u001b[0m\n",
      "\u001b[1;31mValueError\u001b[0m: could not broadcast input array from shape (160,160,3) into shape (512,512)"
     ]
    }
   ],
   "source": [
    "y = preprocess_output(y)"
   ]
  },
  {
   "cell_type": "code",
   "execution_count": 85,
   "metadata": {},
   "outputs": [
    {
     "data": {
      "text/plain": [
       "(320, 1152, 3)"
      ]
     },
     "execution_count": 85,
     "metadata": {},
     "output_type": "execute_result"
    }
   ],
   "source": [
    "y.shape"
   ]
  },
  {
   "cell_type": "code",
   "execution_count": 86,
   "metadata": {},
   "outputs": [],
   "source": [
    "from sklearn.model_selection import train_test_split\n",
    "\n",
    "test_size = 0.25\n",
    "images_train, images_test, labels_train, labels_test = train_test_split(images, labels, test_size=test_size, random_state=1)"
   ]
  },
  {
   "cell_type": "code",
   "execution_count": 87,
   "metadata": {},
   "outputs": [
    {
     "name": "stdout",
     "output_type": "stream",
     "text": [
      "71\n",
      "71\n",
      "24\n",
      "24\n"
     ]
    }
   ],
   "source": [
    "print(len(images_train))\n",
    "print(len(labels_train))\n",
    "print(len(images_test))\n",
    "print(len(labels_test))"
   ]
  },
  {
   "cell_type": "code",
   "execution_count": 88,
   "metadata": {},
   "outputs": [],
   "source": [
    "from albumentations import (\n",
    "    HorizontalFlip,\n",
    "    OpticalDistortion,\n",
    "    RandomSizedCrop,\n",
    "    ShiftScaleRotate,\n",
    "    OneOf,\n",
    "    Compose,\n",
    "    CLAHE,\n",
    "    RandomContrast,\n",
    "    RandomGamma,\n",
    "    RandomCrop\n",
    ")\n",
    "\n",
    "def augment_big(image, mask):\n",
    "    \n",
    "    aug = Compose([\n",
    "        OpticalDistortion(p=0.5, distort_limit=0.25, shift_limit=0.5),\n",
    "        OneOf([\n",
    "            CLAHE(p=1., clip_limit=4.),\n",
    "            RandomContrast(p=1., limit=0.25),\n",
    "            RandomGamma(p=1., gamma_limit=(50,200))\n",
    "            ], p=0.5),\n",
    "        ], p=0.5)\n",
    "\n",
    "    augmented = aug(image=image, mask=mask)\n",
    "\n",
    "    image_heavy = augmented['image']\n",
    "    mask_heavy = augmented['mask']\n",
    "    \n",
    "    return image_heavy, mask_heavy\n",
    "\n",
    "def augment_small(image, mask):\n",
    "\n",
    "    original_height, original_width = image.shape[:2]\n",
    "    \n",
    "    aug = HorizontalFlip(p=0.5)\n",
    "\n",
    "    augmented = aug(image=image, mask=mask)\n",
    "\n",
    "    image_heavy = augmented['image']\n",
    "    mask_heavy = augmented['mask']\n",
    "    \n",
    "    return image_heavy, mask_heavy"
   ]
  },
  {
   "cell_type": "code",
   "execution_count": 89,
   "metadata": {},
   "outputs": [],
   "source": [
    "batch_size = 1"
   ]
  },
  {
   "cell_type": "code",
   "execution_count": 156,
   "metadata": {},
   "outputs": [],
   "source": [
    "from keras.utils import to_categorical\n",
    "\n",
    "def train_generator(images_path, labels_path, batch_size = 1):\n",
    "    \n",
    "    while True:\n",
    "        ids = np.random.randint(0, len(images_path), batch_size)\n",
    "        \n",
    "        image_batch = np.take(images_path, ids)\n",
    "        label_batch = np.take(labels_path, ids)\n",
    "        \n",
    "        batch_input = np.zeros([batch_size, 320, 1152, 3], dtype='uint8')\n",
    "        batch_output = np.zeros([batch_size, 320, 1152, 3], dtype='uint8')\n",
    "\n",
    "        # READ Images and masks:\n",
    "        for i in range(len(image_batch)):\n",
    "            inp = get_image(image_batch[i])\n",
    "            batch_input[i] = inp\n",
    "            outp = get_label(label_batch[i])\n",
    "            batch_output[i] = outp\n",
    "\n",
    "        # Albumentations augmentation:\n",
    "        for i in range(len(batch_input)):\n",
    "            batch_input[i], batch_output[i]  = augment_big(batch_input[i], batch_output[i])\n",
    "        \n",
    "        # Preprocess Images and masks:\n",
    "#         inp = []\n",
    "#         outp = []\n",
    "#         for i in range(len(batch_input)):\n",
    "#             inp.extend(preprocess_input(batch_input[i]))\n",
    "#             outp.extend(preprocess_output(batch_output[i]))\n",
    "            \n",
    "        inp = np.asarray(batch_input)\n",
    "        outp = np.asarray(batch_output)\n",
    "\n",
    "        # Return a tuple of (input,output) to feed the network\n",
    "#         ids = np.random.randint(0, batch_size*4, batch_size)\n",
    "        \n",
    "        batch_x = np.array(inp)\n",
    "        batch_y = np.array(outp)\n",
    "        \n",
    "#         batch_x = np.take(batch_x, ids, axis = 0)\n",
    "#         batch_y = np.take(batch_y, ids, axis = 0)\n",
    "        \n",
    "        out_x = np.zeros_like(batch_x)\n",
    "        out_y = np.zeros_like(batch_y)\n",
    "        \n",
    "        # AUGMENT\n",
    "        for i in range(len(batch_x)):\n",
    "            image_heavy, mask_heavy  = augment_small(batch_x[i], batch_y[i])\n",
    "            out_x[i] = image_heavy\n",
    "            out_y[i] = mask_heavy\n",
    "            \n",
    "        out_x = np.float32(out_x/255.)\n",
    "        \n",
    "#         print(out_y[0].shape)\n",
    "        \n",
    "        out_y = to_categorical(rgbto2(out_y[0]), num_classes=2)\n",
    "#         print(out_y.shape)\n",
    "        out_y = out_y.reshape([1,320,1152,2])\n",
    "        out_y = out_y.astype('int8')\n",
    "#         print(out_y.shape)\n",
    "        \n",
    "        yield(out_x, out_y)      \n",
    "#         return(out_x, out_y)"
   ]
  },
  {
   "cell_type": "code",
   "execution_count": 150,
   "metadata": {},
   "outputs": [],
   "source": [
    "train_gen = train_generator(images_path=images_train, labels_path=labels_train, batch_size=1)"
   ]
  },
  {
   "cell_type": "code",
   "execution_count": 151,
   "metadata": {},
   "outputs": [
    {
     "ename": "TypeError",
     "evalue": "'generator' object is not subscriptable",
     "output_type": "error",
     "traceback": [
      "\u001b[1;31m---------------------------------------------------------------------------\u001b[0m",
      "\u001b[1;31mTypeError\u001b[0m                                 Traceback (most recent call last)",
      "\u001b[1;32m<ipython-input-151-6645f7eaf5b1>\u001b[0m in \u001b[0;36m<module>\u001b[1;34m()\u001b[0m\n\u001b[1;32m----> 1\u001b[1;33m \u001b[0mtrain_gen\u001b[0m\u001b[1;33m[\u001b[0m\u001b[1;36m1\u001b[0m\u001b[1;33m]\u001b[0m\u001b[1;33m.\u001b[0m\u001b[0mdtype\u001b[0m\u001b[1;33m\u001b[0m\u001b[0m\n\u001b[0m",
      "\u001b[1;31mTypeError\u001b[0m: 'generator' object is not subscriptable"
     ]
    }
   ],
   "source": [
    "train_gen[1].dtype"
   ]
  },
  {
   "cell_type": "code",
   "execution_count": 157,
   "metadata": {},
   "outputs": [],
   "source": [
    "def val_generator(images_path, labels_path, batch_size = 1):\n",
    "            \n",
    "    while True:\n",
    "        ids = np.random.randint(0, len(images_path), batch_size)\n",
    "        \n",
    "        image_batch = np.take(images_path, ids)\n",
    "        label_batch = np.take(labels_path, ids)\n",
    "        \n",
    "        batch_input = np.zeros([batch_size, 320, 1152, 3], dtype='uint8')\n",
    "        batch_output = np.zeros([batch_size, 320, 1152, 3], dtype='uint8')\n",
    "\n",
    "        # READ Images and masks:\n",
    "        for i in range(len(image_batch)):\n",
    "            inp = get_image(image_batch[i])\n",
    "            batch_input[i] = inp\n",
    "            outp = get_label(label_batch[i])\n",
    "            batch_output[i] = outp\n",
    "\n",
    "        # Albumentations augmentation:\n",
    "        for i in range(len(batch_input)):\n",
    "            batch_input[i], batch_output[i]  = augment_big(batch_input[i], batch_output[i])\n",
    "        \n",
    "        # Preprocess Images and masks:\n",
    "#         inp = []\n",
    "#         outp = []\n",
    "#         for i in range(len(batch_input)):\n",
    "#             inp.extend(preprocess_input(batch_input[i]))\n",
    "#             outp.extend(preprocess_output(batch_output[i]))\n",
    "            \n",
    "        inp = np.asarray(batch_input)\n",
    "        outp = np.asarray(batch_output)\n",
    "\n",
    "        # Return a tuple of (input,output) to feed the network\n",
    "#         ids = np.random.randint(0, batch_size*4, batch_size)\n",
    "        \n",
    "        out_x = np.array(inp)\n",
    "        out_y = np.array(outp)\n",
    "        \n",
    "#         batch_x = np.take(batch_x, ids, axis = 0)\n",
    "#         batch_y = np.take(batch_y, ids, axis = 0)    \n",
    "            \n",
    "        out_x = np.float32(out_x/255.)\n",
    "        \n",
    "#         print(out_y[0].shape)\n",
    "        \n",
    "        out_y = to_categorical(rgbto2(out_y[0]), num_classes=2)\n",
    "#         print(out_y.shape)\n",
    "        out_y = out_y.reshape([1,320,1152,2])\n",
    "        out_y = out_y.astype('int8')\n",
    "#         print(out_y.shape)\n",
    "        \n",
    "        yield(out_x, out_y)      \n",
    "#         return(out_x, out_y)"
   ]
  },
  {
   "cell_type": "code",
   "execution_count": 153,
   "metadata": {},
   "outputs": [],
   "source": [
    "train_gen = train_generator(images_path=images_train, labels_path=labels_train, batch_size=1)"
   ]
  },
  {
   "cell_type": "code",
   "execution_count": 154,
   "metadata": {},
   "outputs": [],
   "source": [
    "val_gen = val_generator(images_path=images_test, labels_path=labels_test, batch_size=1)"
   ]
  },
  {
   "cell_type": "code",
   "execution_count": 140,
   "metadata": {},
   "outputs": [
    {
     "data": {
      "text/plain": [
       "(1, 320, 1152, 2)"
      ]
     },
     "execution_count": 140,
     "metadata": {},
     "output_type": "execute_result"
    }
   ],
   "source": [
    "val_gen[1].shape"
   ]
  },
  {
   "cell_type": "code",
   "execution_count": 143,
   "metadata": {},
   "outputs": [
    {
     "data": {
      "text/plain": [
       "(320, 1152, 2)"
      ]
     },
     "execution_count": 143,
     "metadata": {},
     "output_type": "execute_result"
    }
   ],
   "source": [
    "train_gen[1][0].shape"
   ]
  },
  {
   "cell_type": "code",
   "execution_count": 137,
   "metadata": {},
   "outputs": [
    {
     "name": "stdout",
     "output_type": "stream",
     "text": [
      "(1, 320, 1152, 3)\n",
      "(1, 320, 1152, 2)\n",
      "(1, 320, 1152, 3)\n",
      "(1, 320, 1152, 2)\n"
     ]
    }
   ],
   "source": [
    "print(train_gen[0].shape)\n",
    "print(train_gen[1].shape)\n",
    "print(val_gen[0].shape)\n",
    "print(val_gen[1].shape)"
   ]
  },
  {
   "cell_type": "code",
   "execution_count": 138,
   "metadata": {},
   "outputs": [],
   "source": [
    "import webcolors\n",
    "\n",
    "def colorize(mask):\n",
    "    hex_colors = ['#000000', '#50E3C2']\n",
    "\n",
    "    rgb_colors = []\n",
    "\n",
    "    for hex_color in hex_colors:\n",
    "        rgb_colors.append(webcolors.hex_to_rgb(hex_color))\n",
    "        \n",
    "    colors = np.array(rgb_colors)\n",
    "        \n",
    "    colorMask = np.zeros([mask.shape[0], mask.shape[1], 3],dtype=np.uint8)\n",
    "    for r in range(mask.shape[0]):\n",
    "        for c in range(mask.shape[1]):\n",
    "            colorMask[r,c,] = colors[mask[r,c]]\n",
    "\n",
    "    return colorMask"
   ]
  },
  {
   "cell_type": "code",
   "execution_count": 163,
   "metadata": {},
   "outputs": [
    {
     "data": {
      "image/png": "[encoded data removed]",
      "text/plain": [
       "<matplotlib.figure.Figure at 0x27cdad85a20>"
      ]
     },
     "metadata": {},
     "output_type": "display_data"
    }
   ],
   "source": [
    "img = 0\n",
    "\n",
    "fig, axes = plt.subplots(nrows=1, ncols=2)\n",
    "fig.set_size_inches(10,5)\n",
    "axes[0].imshow(get_image(images[img]))\n",
    "axes[1].imshow(colorize(rgbto2(get_label(labels[img]))))\n",
    "fig.tight_layout()"
   ]
  },
  {
   "cell_type": "code",
   "execution_count": 161,
   "metadata": {},
   "outputs": [
    {
     "data": {
      "text/plain": [
       "(320, 1152, 3)"
      ]
     },
     "execution_count": 161,
     "metadata": {},
     "output_type": "execute_result"
    }
   ],
   "source": [
    "get_label(labels[img]).shape"
   ]
  },
  {
   "cell_type": "code",
   "execution_count": null,
   "metadata": {},
   "outputs": [],
   "source": []
  },
  {
   "cell_type": "code",
   "execution_count": null,
   "metadata": {},
   "outputs": [],
   "source": []
  },
  {
   "cell_type": "code",
   "execution_count": null,
   "metadata": {},
   "outputs": [],
   "source": []
  },
  {
   "cell_type": "code",
   "execution_count": 145,
   "metadata": {},
   "outputs": [
    {
     "name": "stdout",
     "output_type": "stream",
     "text": [
      "Model summary:\n",
      "____________________________________________________________________________________________________\n",
      "Layer (type)                     Output Shape          Param #     Connected to                     \n",
      "====================================================================================================\n",
      "input_19 (InputLayer)            (None, 320, 1152, 3)  0                                            \n",
      "____________________________________________________________________________________________________\n",
      "conv2d_313 (Conv2D)              (None, 320, 1152, 64) 1792        input_19[0][0]                   \n",
      "____________________________________________________________________________________________________\n",
      "conv2d_314 (Conv2D)              (None, 320, 1152, 64) 36928       conv2d_313[0][0]                 \n",
      "____________________________________________________________________________________________________\n",
      "max_pooling2d_73 (MaxPooling2D)  (None, 160, 576, 64)  0           conv2d_314[0][0]                 \n",
      "____________________________________________________________________________________________________\n",
      "conv2d_315 (Conv2D)              (None, 160, 576, 128) 73856       max_pooling2d_73[0][0]           \n",
      "____________________________________________________________________________________________________\n",
      "conv2d_316 (Conv2D)              (None, 160, 576, 128) 147584      conv2d_315[0][0]                 \n",
      "____________________________________________________________________________________________________\n",
      "max_pooling2d_74 (MaxPooling2D)  (None, 80, 288, 128)  0           conv2d_316[0][0]                 \n",
      "____________________________________________________________________________________________________\n",
      "conv2d_317 (Conv2D)              (None, 80, 288, 256)  295168      max_pooling2d_74[0][0]           \n",
      "____________________________________________________________________________________________________\n",
      "conv2d_318 (Conv2D)              (None, 80, 288, 256)  590080      conv2d_317[0][0]                 \n",
      "____________________________________________________________________________________________________\n",
      "max_pooling2d_75 (MaxPooling2D)  (None, 40, 144, 256)  0           conv2d_318[0][0]                 \n",
      "____________________________________________________________________________________________________\n",
      "conv2d_319 (Conv2D)              (None, 40, 144, 512)  1180160     max_pooling2d_75[0][0]           \n",
      "____________________________________________________________________________________________________\n",
      "conv2d_320 (Conv2D)              (None, 40, 144, 512)  2359808     conv2d_319[0][0]                 \n",
      "____________________________________________________________________________________________________\n",
      "dropout_37 (Dropout)             (None, 40, 144, 512)  0           conv2d_320[0][0]                 \n",
      "____________________________________________________________________________________________________\n",
      "max_pooling2d_76 (MaxPooling2D)  (None, 20, 72, 512)   0           dropout_37[0][0]                 \n",
      "____________________________________________________________________________________________________\n",
      "conv2d_321 (Conv2D)              (None, 20, 72, 1024)  4719616     max_pooling2d_76[0][0]           \n",
      "____________________________________________________________________________________________________\n",
      "conv2d_322 (Conv2D)              (None, 20, 72, 1024)  9438208     conv2d_321[0][0]                 \n",
      "____________________________________________________________________________________________________\n",
      "dropout_38 (Dropout)             (None, 20, 72, 1024)  0           conv2d_322[0][0]                 \n",
      "____________________________________________________________________________________________________\n",
      "up_sampling2d_48 (UpSampling2D)  (None, 40, 144, 1024) 0           dropout_38[0][0]                 \n",
      "____________________________________________________________________________________________________\n",
      "conv2d_323 (Conv2D)              (None, 40, 144, 512)  2097664     up_sampling2d_48[0][0]           \n",
      "____________________________________________________________________________________________________\n",
      "concatenate_48 (Concatenate)     (None, 40, 144, 1024) 0           dropout_37[0][0]                 \n",
      "                                                                   conv2d_323[0][0]                 \n",
      "____________________________________________________________________________________________________\n",
      "conv2d_324 (Conv2D)              (None, 40, 144, 512)  4719104     concatenate_48[0][0]             \n",
      "____________________________________________________________________________________________________\n",
      "conv2d_325 (Conv2D)              (None, 40, 144, 512)  2359808     conv2d_324[0][0]                 \n",
      "____________________________________________________________________________________________________\n",
      "up_sampling2d_49 (UpSampling2D)  (None, 80, 288, 512)  0           conv2d_325[0][0]                 \n",
      "____________________________________________________________________________________________________\n",
      "conv2d_326 (Conv2D)              (None, 80, 288, 256)  524544      up_sampling2d_49[0][0]           \n",
      "____________________________________________________________________________________________________\n",
      "concatenate_49 (Concatenate)     (None, 80, 288, 512)  0           conv2d_318[0][0]                 \n",
      "                                                                   conv2d_326[0][0]                 \n",
      "____________________________________________________________________________________________________\n",
      "conv2d_327 (Conv2D)              (None, 80, 288, 256)  1179904     concatenate_49[0][0]             \n",
      "____________________________________________________________________________________________________\n",
      "conv2d_328 (Conv2D)              (None, 80, 288, 256)  590080      conv2d_327[0][0]                 \n",
      "____________________________________________________________________________________________________\n",
      "up_sampling2d_50 (UpSampling2D)  (None, 160, 576, 256) 0           conv2d_328[0][0]                 \n",
      "____________________________________________________________________________________________________\n",
      "conv2d_329 (Conv2D)              (None, 160, 576, 128) 131200      up_sampling2d_50[0][0]           \n",
      "____________________________________________________________________________________________________\n",
      "concatenate_50 (Concatenate)     (None, 160, 576, 256) 0           conv2d_316[0][0]                 \n",
      "                                                                   conv2d_329[0][0]                 \n",
      "____________________________________________________________________________________________________\n",
      "conv2d_330 (Conv2D)              (None, 160, 576, 128) 295040      concatenate_50[0][0]             \n",
      "____________________________________________________________________________________________________\n",
      "conv2d_331 (Conv2D)              (None, 160, 576, 128) 147584      conv2d_330[0][0]                 \n",
      "____________________________________________________________________________________________________\n",
      "up_sampling2d_51 (UpSampling2D)  (None, 320, 1152, 128 0           conv2d_331[0][0]                 \n",
      "____________________________________________________________________________________________________\n",
      "conv2d_332 (Conv2D)              (None, 320, 1152, 64) 32832       up_sampling2d_51[0][0]           \n",
      "____________________________________________________________________________________________________\n",
      "concatenate_51 (Concatenate)     (None, 320, 1152, 128 0           conv2d_314[0][0]                 \n",
      "                                                                   conv2d_332[0][0]                 \n",
      "____________________________________________________________________________________________________\n",
      "conv2d_333 (Conv2D)              (None, 320, 1152, 64) 73792       concatenate_51[0][0]             \n",
      "____________________________________________________________________________________________________\n",
      "conv2d_334 (Conv2D)              (None, 320, 1152, 64) 36928       conv2d_333[0][0]                 \n",
      "____________________________________________________________________________________________________\n",
      "conv2d_335 (Conv2D)              (None, 320, 1152, 2)  130         conv2d_334[0][0]                 \n",
      "____________________________________________________________________________________________________\n",
      "activation_10 (Activation)       (None, 320, 1152, 2)  0           conv2d_335[0][0]                 \n",
      "====================================================================================================\n",
      "Total params: 31,031,810\n",
      "Trainable params: 31,031,810\n",
      "Non-trainable params: 0\n",
      "____________________________________________________________________________________________________\n",
      "Optimizer: <keras.optimizers.Adam object at 0x0000027CDB6B6390>, learning rate: 0.0001, loss: binary_crossentropy, metrics: ['accuracy']\n",
      "\n"
     ]
    }
   ],
   "source": [
    "from models.Unet import unet\n",
    "\n",
    "model = unet(input_size = (320,1152,3), n_classes=2)\n",
    "\n",
    "print(\"Model summary:\")\n",
    "model.summary()\n",
    "\n",
    "# In[ ]:\n",
    "from keras import optimizers\n",
    "\n",
    "#model.compile(optimizer = 'adadelta', loss = 'categorical_crossentropy', metrics = ['accuracy'])\n",
    "\n",
    "learning_rate = 1e-4\n",
    "optimizer = optimizers.Adam(lr = learning_rate)\n",
    "loss = 'binary_crossentropy'\n",
    "metrics = ['accuracy']\n",
    "\n",
    "print(\"Optimizer: {}, learning rate: {}, loss: {}, metrics: {}\\n\".format(optimizer, learning_rate, loss, metrics))\n",
    "\n",
    "model.compile(optimizer = optimizer, loss = loss, metrics = metrics)"
   ]
  },
  {
   "cell_type": "code",
   "execution_count": 146,
   "metadata": {},
   "outputs": [],
   "source": [
    "steps_per_epoch = len(images_train)//batch_size*2\n",
    "validation_steps = len(images_test)//batch_size\n",
    "epochs = 1\n",
    "verbose = 1"
   ]
  },
  {
   "cell_type": "code",
   "execution_count": 155,
   "metadata": {},
   "outputs": [
    {
     "name": "stdout",
     "output_type": "stream",
     "text": [
      "Epoch 1/1\n",
      "(320, 1152, 3)\n",
      "(368640, 2)\n",
      "(1, 320, 1152, 2)\n",
      "(320, 1152, 3)\n",
      "(368640, 2)\n",
      "(1, 320, 1152, 2)\n",
      "(320, 1152, 3)\n",
      "(368640, 2)\n",
      "(1, 320, 1152, 2)\n",
      "(320, 1152, 3)\n",
      "(368640, 2)\n",
      "(1, 320, 1152, 2)\n",
      "(320, 1152, 3)\n",
      "(368640, 2)\n",
      "(1, 320, 1152, 2)\n",
      "(320, 1152, 3)\n",
      "(368640, 2)\n",
      "(1, 320, 1152, 2)\n",
      "(320, 1152, 3)\n",
      "(368640, 2)\n",
      "(1, 320, 1152, 2)\n",
      "(320, 1152, 3)\n",
      "(368640, 2)\n",
      "(1, 320, 1152, 2)\n",
      "(320, 1152, 3)\n",
      "(368640, 2)\n",
      "(1, 320, 1152, 2)\n",
      "(320, 1152, 3)\n",
      "(368640, 2)\n",
      "(1, 320, 1152, 2)\n",
      "(320, 1152, 3)\n",
      "(368640, 2)\n",
      "(1, 320, 1152, 2)\n",
      "  1/142 [..............................] - ETA: 4301s - loss: 0.6929 - acc: 0.8357(320, 1152, 3)\n",
      "(368640, 2)\n",
      "(1, 320, 1152, 2)\n",
      "  2/142 [..............................] - ETA: 2340s - loss: 0.6811 - acc: 0.8904(320, 1152, 3)\n",
      "(368640, 2)\n",
      "(1, 320, 1152, 2)\n",
      "  3/142 [..............................] - ETA: 1686s - loss: 0.6843 - acc: 0.9089(320, 1152, 3)\n",
      "(368640, 2)\n",
      "(1, 320, 1152, 2)\n",
      "  4/142 [..............................] - ETA: 1356s - loss: 0.6855 - acc: 0.9175(320, 1152, 3)\n",
      "(368640, 2)\n",
      "(1, 320, 1152, 2)\n",
      "  5/142 [>.............................] - ETA: 1158s - loss: 0.6844 - acc: 0.9236(320, 1152, 3)\n",
      "(368640, 2)\n",
      "(1, 320, 1152, 2)\n",
      "  6/142 [>.............................] - ETA: 1025s - loss: 0.6796 - acc: 0.9278(320, 1152, 3)\n",
      "(368640, 2)\n",
      "(1, 320, 1152, 2)\n",
      "  7/142 [>.............................] - ETA: 929s - loss: 0.6544 - acc: 0.9295 (320, 1152, 3)\n",
      "(368640, 2)\n",
      "(1, 320, 1152, 2)\n",
      "  8/142 [>.............................] - ETA: 856s - loss: 0.6283 - acc: 0.9325(320, 1152, 3)\n",
      "(368640, 2)\n",
      "(1, 320, 1152, 2)\n"
     ]
    },
    {
     "ename": "KeyboardInterrupt",
     "evalue": "",
     "output_type": "error",
     "traceback": [
      "\u001b[1;31m---------------------------------------------------------------------------\u001b[0m",
      "\u001b[1;31mKeyboardInterrupt\u001b[0m                         Traceback (most recent call last)",
      "\u001b[1;32m<ipython-input-155-176f3d01e8ba>\u001b[0m in \u001b[0;36m<module>\u001b[1;34m()\u001b[0m\n\u001b[0;32m      5\u001b[0m     \u001b[0mvalidation_steps\u001b[0m \u001b[1;33m=\u001b[0m \u001b[0mvalidation_steps\u001b[0m\u001b[1;33m,\u001b[0m\u001b[1;33m\u001b[0m\u001b[0m\n\u001b[0;32m      6\u001b[0m     \u001b[0mepochs\u001b[0m \u001b[1;33m=\u001b[0m \u001b[0mepochs\u001b[0m\u001b[1;33m,\u001b[0m\u001b[1;33m\u001b[0m\u001b[0m\n\u001b[1;32m----> 7\u001b[1;33m     \u001b[0mverbose\u001b[0m \u001b[1;33m=\u001b[0m \u001b[1;36m1\u001b[0m\u001b[1;33m\u001b[0m\u001b[0m\n\u001b[0m\u001b[0;32m      8\u001b[0m )\n",
      "\u001b[1;32mD:\\Anaconda\\lib\\site-packages\\keras\\legacy\\interfaces.py\u001b[0m in \u001b[0;36mwrapper\u001b[1;34m(*args, **kwargs)\u001b[0m\n\u001b[0;32m     85\u001b[0m                 warnings.warn('Update your `' + object_name +\n\u001b[0;32m     86\u001b[0m                               '` call to the Keras 2 API: ' + signature, stacklevel=2)\n\u001b[1;32m---> 87\u001b[1;33m             \u001b[1;32mreturn\u001b[0m \u001b[0mfunc\u001b[0m\u001b[1;33m(\u001b[0m\u001b[1;33m*\u001b[0m\u001b[0margs\u001b[0m\u001b[1;33m,\u001b[0m \u001b[1;33m**\u001b[0m\u001b[0mkwargs\u001b[0m\u001b[1;33m)\u001b[0m\u001b[1;33m\u001b[0m\u001b[0m\n\u001b[0m\u001b[0;32m     88\u001b[0m         \u001b[0mwrapper\u001b[0m\u001b[1;33m.\u001b[0m\u001b[0m_original_function\u001b[0m \u001b[1;33m=\u001b[0m \u001b[0mfunc\u001b[0m\u001b[1;33m\u001b[0m\u001b[0m\n\u001b[0;32m     89\u001b[0m         \u001b[1;32mreturn\u001b[0m \u001b[0mwrapper\u001b[0m\u001b[1;33m\u001b[0m\u001b[0m\n",
      "\u001b[1;32mD:\\Anaconda\\lib\\site-packages\\keras\\engine\\training.py\u001b[0m in \u001b[0;36mfit_generator\u001b[1;34m(self, generator, steps_per_epoch, epochs, verbose, callbacks, validation_data, validation_steps, class_weight, max_queue_size, workers, use_multiprocessing, shuffle, initial_epoch)\u001b[0m\n\u001b[0;32m   2040\u001b[0m                     outs = self.train_on_batch(x, y,\n\u001b[0;32m   2041\u001b[0m                                                \u001b[0msample_weight\u001b[0m\u001b[1;33m=\u001b[0m\u001b[0msample_weight\u001b[0m\u001b[1;33m,\u001b[0m\u001b[1;33m\u001b[0m\u001b[0m\n\u001b[1;32m-> 2042\u001b[1;33m                                                class_weight=class_weight)\n\u001b[0m\u001b[0;32m   2043\u001b[0m \u001b[1;33m\u001b[0m\u001b[0m\n\u001b[0;32m   2044\u001b[0m                     \u001b[1;32mif\u001b[0m \u001b[1;32mnot\u001b[0m \u001b[0misinstance\u001b[0m\u001b[1;33m(\u001b[0m\u001b[0mouts\u001b[0m\u001b[1;33m,\u001b[0m \u001b[0mlist\u001b[0m\u001b[1;33m)\u001b[0m\u001b[1;33m:\u001b[0m\u001b[1;33m\u001b[0m\u001b[0m\n",
      "\u001b[1;32mD:\\Anaconda\\lib\\site-packages\\keras\\engine\\training.py\u001b[0m in \u001b[0;36mtrain_on_batch\u001b[1;34m(self, x, y, sample_weight, class_weight)\u001b[0m\n\u001b[0;32m   1760\u001b[0m             \u001b[0mins\u001b[0m \u001b[1;33m=\u001b[0m \u001b[0mx\u001b[0m \u001b[1;33m+\u001b[0m \u001b[0my\u001b[0m \u001b[1;33m+\u001b[0m \u001b[0msample_weights\u001b[0m\u001b[1;33m\u001b[0m\u001b[0m\n\u001b[0;32m   1761\u001b[0m         \u001b[0mself\u001b[0m\u001b[1;33m.\u001b[0m\u001b[0m_make_train_function\u001b[0m\u001b[1;33m(\u001b[0m\u001b[1;33m)\u001b[0m\u001b[1;33m\u001b[0m\u001b[0m\n\u001b[1;32m-> 1762\u001b[1;33m         \u001b[0moutputs\u001b[0m \u001b[1;33m=\u001b[0m \u001b[0mself\u001b[0m\u001b[1;33m.\u001b[0m\u001b[0mtrain_function\u001b[0m\u001b[1;33m(\u001b[0m\u001b[0mins\u001b[0m\u001b[1;33m)\u001b[0m\u001b[1;33m\u001b[0m\u001b[0m\n\u001b[0m\u001b[0;32m   1763\u001b[0m         \u001b[1;32mif\u001b[0m \u001b[0mlen\u001b[0m\u001b[1;33m(\u001b[0m\u001b[0moutputs\u001b[0m\u001b[1;33m)\u001b[0m \u001b[1;33m==\u001b[0m \u001b[1;36m1\u001b[0m\u001b[1;33m:\u001b[0m\u001b[1;33m\u001b[0m\u001b[0m\n\u001b[0;32m   1764\u001b[0m             \u001b[1;32mreturn\u001b[0m \u001b[0moutputs\u001b[0m\u001b[1;33m[\u001b[0m\u001b[1;36m0\u001b[0m\u001b[1;33m]\u001b[0m\u001b[1;33m\u001b[0m\u001b[0m\n",
      "\u001b[1;32mD:\\Anaconda\\lib\\site-packages\\keras\\backend\\tensorflow_backend.py\u001b[0m in \u001b[0;36m__call__\u001b[1;34m(self, inputs)\u001b[0m\n\u001b[0;32m   2271\u001b[0m         updated = session.run(self.outputs + [self.updates_op],\n\u001b[0;32m   2272\u001b[0m                               \u001b[0mfeed_dict\u001b[0m\u001b[1;33m=\u001b[0m\u001b[0mfeed_dict\u001b[0m\u001b[1;33m,\u001b[0m\u001b[1;33m\u001b[0m\u001b[0m\n\u001b[1;32m-> 2273\u001b[1;33m                               **self.session_kwargs)\n\u001b[0m\u001b[0;32m   2274\u001b[0m         \u001b[1;32mreturn\u001b[0m \u001b[0mupdated\u001b[0m\u001b[1;33m[\u001b[0m\u001b[1;33m:\u001b[0m\u001b[0mlen\u001b[0m\u001b[1;33m(\u001b[0m\u001b[0mself\u001b[0m\u001b[1;33m.\u001b[0m\u001b[0moutputs\u001b[0m\u001b[1;33m)\u001b[0m\u001b[1;33m]\u001b[0m\u001b[1;33m\u001b[0m\u001b[0m\n\u001b[0;32m   2275\u001b[0m \u001b[1;33m\u001b[0m\u001b[0m\n",
      "\u001b[1;32m~\\AppData\\Roaming\\Python\\Python36\\site-packages\\tensorflow\\python\\client\\session.py\u001b[0m in \u001b[0;36mrun\u001b[1;34m(self, fetches, feed_dict, options, run_metadata)\u001b[0m\n\u001b[0;32m    887\u001b[0m     \u001b[1;32mtry\u001b[0m\u001b[1;33m:\u001b[0m\u001b[1;33m\u001b[0m\u001b[0m\n\u001b[0;32m    888\u001b[0m       result = self._run(None, fetches, feed_dict, options_ptr,\n\u001b[1;32m--> 889\u001b[1;33m                          run_metadata_ptr)\n\u001b[0m\u001b[0;32m    890\u001b[0m       \u001b[1;32mif\u001b[0m \u001b[0mrun_metadata\u001b[0m\u001b[1;33m:\u001b[0m\u001b[1;33m\u001b[0m\u001b[0m\n\u001b[0;32m    891\u001b[0m         \u001b[0mproto_data\u001b[0m \u001b[1;33m=\u001b[0m \u001b[0mtf_session\u001b[0m\u001b[1;33m.\u001b[0m\u001b[0mTF_GetBuffer\u001b[0m\u001b[1;33m(\u001b[0m\u001b[0mrun_metadata_ptr\u001b[0m\u001b[1;33m)\u001b[0m\u001b[1;33m\u001b[0m\u001b[0m\n",
      "\u001b[1;32m~\\AppData\\Roaming\\Python\\Python36\\site-packages\\tensorflow\\python\\client\\session.py\u001b[0m in \u001b[0;36m_run\u001b[1;34m(self, handle, fetches, feed_dict, options, run_metadata)\u001b[0m\n\u001b[0;32m   1118\u001b[0m     \u001b[1;32mif\u001b[0m \u001b[0mfinal_fetches\u001b[0m \u001b[1;32mor\u001b[0m \u001b[0mfinal_targets\u001b[0m \u001b[1;32mor\u001b[0m \u001b[1;33m(\u001b[0m\u001b[0mhandle\u001b[0m \u001b[1;32mand\u001b[0m \u001b[0mfeed_dict_tensor\u001b[0m\u001b[1;33m)\u001b[0m\u001b[1;33m:\u001b[0m\u001b[1;33m\u001b[0m\u001b[0m\n\u001b[0;32m   1119\u001b[0m       results = self._do_run(handle, final_targets, final_fetches,\n\u001b[1;32m-> 1120\u001b[1;33m                              feed_dict_tensor, options, run_metadata)\n\u001b[0m\u001b[0;32m   1121\u001b[0m     \u001b[1;32melse\u001b[0m\u001b[1;33m:\u001b[0m\u001b[1;33m\u001b[0m\u001b[0m\n\u001b[0;32m   1122\u001b[0m       \u001b[0mresults\u001b[0m \u001b[1;33m=\u001b[0m \u001b[1;33m[\u001b[0m\u001b[1;33m]\u001b[0m\u001b[1;33m\u001b[0m\u001b[0m\n",
      "\u001b[1;32m~\\AppData\\Roaming\\Python\\Python36\\site-packages\\tensorflow\\python\\client\\session.py\u001b[0m in \u001b[0;36m_do_run\u001b[1;34m(self, handle, target_list, fetch_list, feed_dict, options, run_metadata)\u001b[0m\n\u001b[0;32m   1315\u001b[0m     \u001b[1;32mif\u001b[0m \u001b[0mhandle\u001b[0m \u001b[1;32mis\u001b[0m \u001b[1;32mNone\u001b[0m\u001b[1;33m:\u001b[0m\u001b[1;33m\u001b[0m\u001b[0m\n\u001b[0;32m   1316\u001b[0m       return self._do_call(_run_fn, self._session, feeds, fetches, targets,\n\u001b[1;32m-> 1317\u001b[1;33m                            options, run_metadata)\n\u001b[0m\u001b[0;32m   1318\u001b[0m     \u001b[1;32melse\u001b[0m\u001b[1;33m:\u001b[0m\u001b[1;33m\u001b[0m\u001b[0m\n\u001b[0;32m   1319\u001b[0m       \u001b[1;32mreturn\u001b[0m \u001b[0mself\u001b[0m\u001b[1;33m.\u001b[0m\u001b[0m_do_call\u001b[0m\u001b[1;33m(\u001b[0m\u001b[0m_prun_fn\u001b[0m\u001b[1;33m,\u001b[0m \u001b[0mself\u001b[0m\u001b[1;33m.\u001b[0m\u001b[0m_session\u001b[0m\u001b[1;33m,\u001b[0m \u001b[0mhandle\u001b[0m\u001b[1;33m,\u001b[0m \u001b[0mfeeds\u001b[0m\u001b[1;33m,\u001b[0m \u001b[0mfetches\u001b[0m\u001b[1;33m)\u001b[0m\u001b[1;33m\u001b[0m\u001b[0m\n",
      "\u001b[1;32m~\\AppData\\Roaming\\Python\\Python36\\site-packages\\tensorflow\\python\\client\\session.py\u001b[0m in \u001b[0;36m_do_call\u001b[1;34m(self, fn, *args)\u001b[0m\n\u001b[0;32m   1321\u001b[0m   \u001b[1;32mdef\u001b[0m \u001b[0m_do_call\u001b[0m\u001b[1;33m(\u001b[0m\u001b[0mself\u001b[0m\u001b[1;33m,\u001b[0m \u001b[0mfn\u001b[0m\u001b[1;33m,\u001b[0m \u001b[1;33m*\u001b[0m\u001b[0margs\u001b[0m\u001b[1;33m)\u001b[0m\u001b[1;33m:\u001b[0m\u001b[1;33m\u001b[0m\u001b[0m\n\u001b[0;32m   1322\u001b[0m     \u001b[1;32mtry\u001b[0m\u001b[1;33m:\u001b[0m\u001b[1;33m\u001b[0m\u001b[0m\n\u001b[1;32m-> 1323\u001b[1;33m       \u001b[1;32mreturn\u001b[0m \u001b[0mfn\u001b[0m\u001b[1;33m(\u001b[0m\u001b[1;33m*\u001b[0m\u001b[0margs\u001b[0m\u001b[1;33m)\u001b[0m\u001b[1;33m\u001b[0m\u001b[0m\n\u001b[0m\u001b[0;32m   1324\u001b[0m     \u001b[1;32mexcept\u001b[0m \u001b[0merrors\u001b[0m\u001b[1;33m.\u001b[0m\u001b[0mOpError\u001b[0m \u001b[1;32mas\u001b[0m \u001b[0me\u001b[0m\u001b[1;33m:\u001b[0m\u001b[1;33m\u001b[0m\u001b[0m\n\u001b[0;32m   1325\u001b[0m       \u001b[0mmessage\u001b[0m \u001b[1;33m=\u001b[0m \u001b[0mcompat\u001b[0m\u001b[1;33m.\u001b[0m\u001b[0mas_text\u001b[0m\u001b[1;33m(\u001b[0m\u001b[0me\u001b[0m\u001b[1;33m.\u001b[0m\u001b[0mmessage\u001b[0m\u001b[1;33m)\u001b[0m\u001b[1;33m\u001b[0m\u001b[0m\n",
      "\u001b[1;32m~\\AppData\\Roaming\\Python\\Python36\\site-packages\\tensorflow\\python\\client\\session.py\u001b[0m in \u001b[0;36m_run_fn\u001b[1;34m(session, feed_dict, fetch_list, target_list, options, run_metadata)\u001b[0m\n\u001b[0;32m   1300\u001b[0m           return tf_session.TF_Run(session, options,\n\u001b[0;32m   1301\u001b[0m                                    \u001b[0mfeed_dict\u001b[0m\u001b[1;33m,\u001b[0m \u001b[0mfetch_list\u001b[0m\u001b[1;33m,\u001b[0m \u001b[0mtarget_list\u001b[0m\u001b[1;33m,\u001b[0m\u001b[1;33m\u001b[0m\u001b[0m\n\u001b[1;32m-> 1302\u001b[1;33m                                    status, run_metadata)\n\u001b[0m\u001b[0;32m   1303\u001b[0m \u001b[1;33m\u001b[0m\u001b[0m\n\u001b[0;32m   1304\u001b[0m     \u001b[1;32mdef\u001b[0m \u001b[0m_prun_fn\u001b[0m\u001b[1;33m(\u001b[0m\u001b[0msession\u001b[0m\u001b[1;33m,\u001b[0m \u001b[0mhandle\u001b[0m\u001b[1;33m,\u001b[0m \u001b[0mfeed_dict\u001b[0m\u001b[1;33m,\u001b[0m \u001b[0mfetch_list\u001b[0m\u001b[1;33m)\u001b[0m\u001b[1;33m:\u001b[0m\u001b[1;33m\u001b[0m\u001b[0m\n",
      "\u001b[1;31mKeyboardInterrupt\u001b[0m: "
     ]
    }
   ],
   "source": [
    "history = model.fit_generator(\n",
    "    train_gen,\n",
    "    validation_data = val_gen,\n",
    "    steps_per_epoch = steps_per_epoch,\n",
    "    validation_steps = validation_steps,\n",
    "    epochs = epochs,\n",
    "    verbose = 1\n",
    ")"
   ]
  },
  {
   "cell_type": "code",
   "execution_count": null,
   "metadata": {},
   "outputs": [],
   "source": []
  },
  {
   "cell_type": "code",
   "execution_count": null,
   "metadata": {},
   "outputs": [],
   "source": []
  },
  {
   "cell_type": "code",
   "execution_count": null,
   "metadata": {},
   "outputs": [],
   "source": []
  }
 ],
 "metadata": {
  "kernelspec": {
   "display_name": "Python 3",
   "language": "python",
   "name": "python3"
  },
  "language_info": {
   "codemirror_mode": {
    "name": "ipython",
    "version": 3
   },
   "file_extension": ".py",
   "mimetype": "text/x-python",
   "name": "python",
   "nbconvert_exporter": "python",
   "pygments_lexer": "ipython3",
   "version": "3.6.1"
  }
 },
 "nbformat": 4,
 "nbformat_minor": 2
}
