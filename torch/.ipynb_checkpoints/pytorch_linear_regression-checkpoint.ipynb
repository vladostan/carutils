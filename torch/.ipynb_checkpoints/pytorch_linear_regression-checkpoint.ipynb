{
 "cells": [
  {
   "cell_type": "markdown",
   "metadata": {},
   "source": [
    "# 6. Linear Regression with PyTorch\n",
    "## 1. About Linear Regression\n"
   ]
  },
  {
   "cell_type": "markdown",
   "metadata": {},
   "source": [
    "### 1.1 Simple Linear Regression Basics\n",
    "- Allows us to understand **relationship** between two **continuous variables**\n",
    "- Example\n",
    "    - x: independent variable\n",
    "        - weight\n",
    "    - y: dependent variable\n",
    "        - height\n",
    "- $y = \\alpha x + \\beta$"
   ]
  },
  {
   "cell_type": "markdown",
   "metadata": {},
   "source": [
    "### 1.2 Example of simple linear regression"
   ]
  },
  {
   "cell_type": "code",
   "execution_count": 1,
   "metadata": {},
   "outputs": [
    {
     "data": {
      "image/png": "[encoded data removed]",
      "text/plain": [
       "<Figure size 432x288 with 1 Axes>"
      ]
     },
     "metadata": {
      "needs_background": "light"
     },
     "output_type": "display_data"
    }
   ],
   "source": [
    "import numpy as np\n",
    "import matplotlib.pyplot as plt\n",
    "%matplotlib inline\n",
    "\n",
    "np.random.seed(1)\n",
    "n = 50\n",
    "x = np.random.randn(n)\n",
    "y = x * np.random.randn(n)\n",
    "\n",
    "colors = np.random.rand(n)\n",
    "plt.plot(np.unique(x), np.poly1d(np.polyfit(x, y, 1))(np.unique(x)))\n",
    "\n",
    "plt.scatter(x, y, c=colors, alpha=0.5)\n",
    "plt.show()"
   ]
  },
  {
   "cell_type": "markdown",
   "metadata": {},
   "source": [
    "### 1.3 Aim of Linear Regression\n",
    "- Minimize the distance between the points and the line ($y = \\alpha x + \\beta$)\n",
    "- Adjusting\n",
    "    - Coefficient: $\\alpha$\n",
    "    - Bias/intercept: $\\beta$\n",
    "\n",
    "## 2. Building a Linear Regression Model with PyTorch\n",
    "\n",
    "### 2.1 Example\n",
    "- Coefficient: $\\alpha = 2$\n",
    "- Bias/intercept: $\\beta = 1$\n",
    "- Equation: $y = 2x + 1$"
   ]
  },
  {
   "cell_type": "markdown",
   "metadata": {},
   "source": [
    "### 2.2 Building a Toy Dataset"
   ]
  },
  {
   "cell_type": "code",
   "execution_count": 2,
   "metadata": {},
   "outputs": [],
   "source": [
    "x_values = [i for i in range(11)]"
   ]
  },
  {
   "cell_type": "code",
   "execution_count": 3,
   "metadata": {},
   "outputs": [
    {
     "data": {
      "text/plain": [
       "[0, 1, 2, 3, 4, 5, 6, 7, 8, 9, 10]"
      ]
     },
     "execution_count": 3,
     "metadata": {},
     "output_type": "execute_result"
    }
   ],
   "source": [
    "x_values"
   ]
  },
  {
   "cell_type": "code",
   "execution_count": 4,
   "metadata": {},
   "outputs": [
    {
     "data": {
      "text/plain": [
       "(11,)"
      ]
     },
     "execution_count": 4,
     "metadata": {},
     "output_type": "execute_result"
    }
   ],
   "source": [
    "# Convert to numpy\n",
    "x_train = np.array(x_values, dtype=np.float32)\n",
    "x_train.shape"
   ]
  },
  {
   "cell_type": "code",
   "execution_count": 5,
   "metadata": {},
   "outputs": [
    {
     "data": {
      "text/plain": [
       "(11, 1)"
      ]
     },
     "execution_count": 5,
     "metadata": {},
     "output_type": "execute_result"
    }
   ],
   "source": [
    "# IMPORTANT: 2D required\n",
    "x_train = x_train.reshape(-1, 1)\n",
    "x_train.shape"
   ]
  },
  {
   "cell_type": "markdown",
   "metadata": {},
   "source": [
    "$y = 2x + 1$"
   ]
  },
  {
   "cell_type": "code",
   "execution_count": 6,
   "metadata": {},
   "outputs": [],
   "source": [
    "y_values = [2*i + 1 for i in x_values]"
   ]
  },
  {
   "cell_type": "code",
   "execution_count": 7,
   "metadata": {},
   "outputs": [
    {
     "data": {
      "text/plain": [
       "[1, 3, 5, 7, 9, 11, 13, 15, 17, 19, 21]"
      ]
     },
     "execution_count": 7,
     "metadata": {},
     "output_type": "execute_result"
    }
   ],
   "source": [
    "y_values"
   ]
  },
  {
   "cell_type": "code",
   "execution_count": 8,
   "metadata": {},
   "outputs": [],
   "source": [
    "# In case you're weak in list iterators...\n",
    "y_values = []\n",
    "for i in x_values:\n",
    "    result = 2*i + 1\n",
    "    y_values.append(result) "
   ]
  },
  {
   "cell_type": "code",
   "execution_count": 9,
   "metadata": {},
   "outputs": [
    {
     "data": {
      "text/plain": [
       "[1, 3, 5, 7, 9, 11, 13, 15, 17, 19, 21]"
      ]
     },
     "execution_count": 9,
     "metadata": {},
     "output_type": "execute_result"
    }
   ],
   "source": [
    "y_values"
   ]
  },
  {
   "cell_type": "code",
   "execution_count": 10,
   "metadata": {},
   "outputs": [
    {
     "data": {
      "text/plain": [
       "(11,)"
      ]
     },
     "execution_count": 10,
     "metadata": {},
     "output_type": "execute_result"
    }
   ],
   "source": [
    "y_train = np.array(y_values, dtype=np.float32)\n",
    "y_train.shape"
   ]
  },
  {
   "cell_type": "code",
   "execution_count": 11,
   "metadata": {},
   "outputs": [
    {
     "data": {
      "text/plain": [
       "(11, 1)"
      ]
     },
     "execution_count": 11,
     "metadata": {},
     "output_type": "execute_result"
    }
   ],
   "source": [
    "# IMPORTANT: 2D required\n",
    "y_train = y_train.reshape(-1, 1)\n",
    "y_train.shape"
   ]
  },
  {
   "cell_type": "markdown",
   "metadata": {},
   "source": [
    "### 2.3 Building Model"
   ]
  },
  {
   "cell_type": "markdown",
   "metadata": {},
   "source": [
    "**Critical Imports**"
   ]
  },
  {
   "cell_type": "code",
   "execution_count": 12,
   "metadata": {},
   "outputs": [],
   "source": [
    "import torch\n",
    "import torch.nn as nn"
   ]
  },
  {
   "cell_type": "markdown",
   "metadata": {},
   "source": [
    "**Create Model**\n",
    "1. Linear model\n",
    "    - True Equation: $y = 2x + 1$\n",
    "2. Forward\n",
    "    - Example\n",
    "        - Input $x = 1 $\n",
    "        - Output $\\hat y = ?$"
   ]
  },
  {
   "cell_type": "code",
   "execution_count": 13,
   "metadata": {},
   "outputs": [],
   "source": [
    "# Create class\n",
    "class LinearRegressionModel(nn.Module):\n",
    "    def __init__(self, input_dim, output_dim):\n",
    "        super(LinearRegressionModel, self).__init__()\n",
    "        self.linear = nn.Linear(input_dim, output_dim)  \n",
    "    \n",
    "    def forward(self, x):\n",
    "        out = self.linear(x)\n",
    "        return out"
   ]
  },
  {
   "cell_type": "markdown",
   "metadata": {},
   "source": [
    "**Instantiate Model Class**\n",
    "- input: [0, 1, 2, 3, 4, 5, 6, 7, 8, 9, 10]\n",
    "- desired output: [1, 3, 5, 7, 9, 11, 13, 15, 17, 19, 21]"
   ]
  },
  {
   "cell_type": "code",
   "execution_count": 14,
   "metadata": {},
   "outputs": [],
   "source": [
    "input_dim = 1\n",
    "output_dim = 1\n",
    "\n",
    "model = LinearRegressionModel(input_dim, output_dim)"
   ]
  },
  {
   "cell_type": "markdown",
   "metadata": {},
   "source": [
    "**Instantiate Loss Class**\n",
    "- MSE Loss: Mean Squared Error\n",
    "- $MSE = \\frac{1}{n} \\sum_{i=1}^n(\\hat y_i - y_i)$\n",
    "    - $\\hat y$: prediction\n",
    "    - $y$: true value"
   ]
  },
  {
   "cell_type": "code",
   "execution_count": 15,
   "metadata": {},
   "outputs": [],
   "source": [
    "criterion = nn.MSELoss()"
   ]
  },
  {
   "cell_type": "markdown",
   "metadata": {},
   "source": [
    "**Instantiate Optimizer Class**\n",
    "- Simplified equation\n",
    "    - $\\theta = \\theta - \\eta \\cdot \\nabla_\\theta $\n",
    "        - $\\theta$: parameters (our variables)\n",
    "        - $\\eta$: learning rate (how fast we want to learn)\n",
    "        - $\\nabla_\\theta$: parameters' gradients\n",
    "- Even simplier equation\n",
    "    - `parameters = parameters - learning_rate * parameters_gradients`\n",
    "        - parameters: $\\alpha$ and $\\beta$ in $ y = \\alpha x + \\beta$\n",
    "        - desired parameters: $\\alpha = 2$ and $\\beta = 1$ in $ y = 2x + 1$"
   ]
  },
  {
   "cell_type": "code",
   "execution_count": 16,
   "metadata": {},
   "outputs": [],
   "source": [
    "learning_rate = 0.01\n",
    "\n",
    "optimizer = torch.optim.SGD(model.parameters(), lr=learning_rate)"
   ]
  },
  {
   "cell_type": "markdown",
   "metadata": {},
   "source": [
    "**Train Model**\n",
    "- 1 epoch: going through the whole x_train data once\n",
    "    - 100 epochs: \n",
    "        - 100x mapping `x_train = [0, 1, 2, 3, 4, 5, 6, 7, 8, 9, 10]`\n",
    "        \n",
    "- Process \n",
    "    1. Convert inputs/labels to tensors with gradients\n",
    "    2. Clear gradient buffets\n",
    "    3. Get output given inputs \n",
    "    4. Get loss\n",
    "    5. Get gradients w.r.t. parameters\n",
    "    6. Update parameters using gradients\n",
    "        - `parameters = parameters - learning_rate * parameters_gradients`\n",
    "    7. REPEAT"
   ]
  },
  {
   "cell_type": "code",
   "execution_count": 17,
   "metadata": {},
   "outputs": [],
   "source": [
    "epochs = 100"
   ]
  },
  {
   "cell_type": "code",
   "execution_count": 18,
   "metadata": {
    "scrolled": true
   },
   "outputs": [
    {
     "name": "stdout",
     "output_type": "stream",
     "text": [
      "epoch 1, loss 206.09994506835938\n",
      "epoch 2, loss 17.4328556060791\n",
      "epoch 3, loss 2.0369279384613037\n",
      "epoch 4, loss 0.7742648720741272\n",
      "epoch 5, loss 0.6644824743270874\n",
      "epoch 6, loss 0.6488132476806641\n",
      "epoch 7, loss 0.6408949494361877\n",
      "epoch 8, loss 0.6336832046508789\n",
      "epoch 9, loss 0.6266022324562073\n",
      "epoch 10, loss 0.6196050643920898\n",
      "epoch 11, loss 0.6126856207847595\n",
      "epoch 12, loss 0.6058441400527954\n",
      "epoch 13, loss 0.5990791320800781\n",
      "epoch 14, loss 0.5923890471458435\n",
      "epoch 15, loss 0.5857741832733154\n",
      "epoch 16, loss 0.5792327523231506\n",
      "epoch 17, loss 0.5727642774581909\n",
      "epoch 18, loss 0.5663685202598572\n",
      "epoch 19, loss 0.5600440502166748\n",
      "epoch 20, loss 0.5537900924682617\n",
      "epoch 21, loss 0.5476058125495911\n",
      "epoch 22, loss 0.5414910316467285\n",
      "epoch 23, loss 0.5354437828063965\n",
      "epoch 24, loss 0.529464840888977\n",
      "epoch 25, loss 0.523552656173706\n",
      "epoch 26, loss 0.5177060961723328\n",
      "epoch 27, loss 0.5119249224662781\n",
      "epoch 28, loss 0.506208062171936\n",
      "epoch 29, loss 0.5005552768707275\n",
      "epoch 30, loss 0.49496617913246155\n",
      "epoch 31, loss 0.4894387722015381\n",
      "epoch 32, loss 0.48397308588027954\n",
      "epoch 33, loss 0.47856858372688293\n",
      "epoch 34, loss 0.4732246398925781\n",
      "epoch 35, loss 0.4679403305053711\n",
      "epoch 36, loss 0.46271470189094543\n",
      "epoch 37, loss 0.4575478136539459\n",
      "epoch 38, loss 0.45243823528289795\n",
      "epoch 39, loss 0.44738590717315674\n",
      "epoch 40, loss 0.4423900544643402\n",
      "epoch 41, loss 0.43744975328445435\n",
      "epoch 42, loss 0.43256521224975586\n",
      "epoch 43, loss 0.4277346134185791\n",
      "epoch 44, loss 0.4229584336280823\n",
      "epoch 45, loss 0.418235182762146\n",
      "epoch 46, loss 0.4135644733905792\n",
      "epoch 47, loss 0.40894651412963867\n",
      "epoch 48, loss 0.4043801724910736\n",
      "epoch 49, loss 0.39986446499824524\n",
      "epoch 50, loss 0.3953990936279297\n",
      "epoch 51, loss 0.3909834921360016\n",
      "epoch 52, loss 0.3866175711154938\n",
      "epoch 53, loss 0.38230061531066895\n",
      "epoch 54, loss 0.3780311942100525\n",
      "epoch 55, loss 0.3738096058368683\n",
      "epoch 56, loss 0.369635671377182\n",
      "epoch 57, loss 0.3655077815055847\n",
      "epoch 58, loss 0.3614262044429779\n",
      "epoch 59, loss 0.3573903739452362\n",
      "epoch 60, loss 0.35339951515197754\n",
      "epoch 61, loss 0.3494530916213989\n",
      "epoch 62, loss 0.3455505669116974\n",
      "epoch 63, loss 0.34169214963912964\n",
      "epoch 64, loss 0.33787670731544495\n",
      "epoch 65, loss 0.334103524684906\n",
      "epoch 66, loss 0.33037257194519043\n",
      "epoch 67, loss 0.32668331265449524\n",
      "epoch 68, loss 0.3230352997779846\n",
      "epoch 69, loss 0.3194279074668884\n",
      "epoch 70, loss 0.3158611059188843\n",
      "epoch 71, loss 0.3123338222503662\n",
      "epoch 72, loss 0.30884602665901184\n",
      "epoch 73, loss 0.3053972125053406\n",
      "epoch 74, loss 0.3019866943359375\n",
      "epoch 75, loss 0.29861465096473694\n",
      "epoch 76, loss 0.2952800691127777\n",
      "epoch 77, loss 0.2919827401638031\n",
      "epoch 78, loss 0.28872206807136536\n",
      "epoch 79, loss 0.28549811244010925\n",
      "epoch 80, loss 0.2823099195957184\n",
      "epoch 81, loss 0.27915748953819275\n",
      "epoch 82, loss 0.2760399878025055\n",
      "epoch 83, loss 0.27295780181884766\n",
      "epoch 84, loss 0.26990965008735657\n",
      "epoch 85, loss 0.26689568161964417\n",
      "epoch 86, loss 0.26391538977622986\n",
      "epoch 87, loss 0.2609681189060211\n",
      "epoch 88, loss 0.2580537796020508\n",
      "epoch 89, loss 0.2551724314689636\n",
      "epoch 90, loss 0.2523229122161865\n",
      "epoch 91, loss 0.24950498342514038\n",
      "epoch 92, loss 0.24671880900859833\n",
      "epoch 93, loss 0.24396392703056335\n",
      "epoch 94, loss 0.24123959243297577\n",
      "epoch 95, loss 0.23854561150074005\n",
      "epoch 96, loss 0.23588164150714874\n",
      "epoch 97, loss 0.23324766755104065\n",
      "epoch 98, loss 0.2306429147720337\n",
      "epoch 99, loss 0.22806762158870697\n",
      "epoch 100, loss 0.22552065551280975\n"
     ]
    }
   ],
   "source": [
    "for epoch in range(epochs):\n",
    "    epoch += 1\n",
    "    # Convert numpy array to torch Variable\n",
    "    inputs = torch.from_numpy(x_train).requires_grad_()\n",
    "    labels = torch.from_numpy(y_train)\n",
    "\n",
    "    # Clear gradients w.r.t. parameters\n",
    "    optimizer.zero_grad() \n",
    "    \n",
    "    # Forward to get output\n",
    "    outputs = model(inputs)\n",
    "    \n",
    "    # Calculate Loss\n",
    "    loss = criterion(outputs, labels)\n",
    "    \n",
    "    # Getting gradients w.r.t. parameters\n",
    "    loss.backward()\n",
    "    \n",
    "    # Updating parameters\n",
    "    optimizer.step()\n",
    "    \n",
    "    print('epoch {}, loss {}'.format(epoch, loss.item()))"
   ]
  },
  {
   "cell_type": "markdown",
   "metadata": {},
   "source": [
    "**Compare Data**"
   ]
  },
  {
   "cell_type": "code",
   "execution_count": 19,
   "metadata": {},
   "outputs": [
    {
     "data": {
      "text/plain": [
       "array([[ 0.11660784],\n",
       "       [ 2.2438242 ],\n",
       "       [ 4.3710403 ],\n",
       "       [ 6.4982567 ],\n",
       "       [ 8.625473  ],\n",
       "       [10.752689  ],\n",
       "       [12.879906  ],\n",
       "       [15.007122  ],\n",
       "       [17.134338  ],\n",
       "       [19.261555  ],\n",
       "       [21.388771  ]], dtype=float32)"
      ]
     },
     "execution_count": 19,
     "metadata": {},
     "output_type": "execute_result"
    }
   ],
   "source": [
    "# Purely inference\n",
    "predicted = model(torch.from_numpy(x_train).requires_grad_()).data.numpy()\n",
    "predicted"
   ]
  },
  {
   "cell_type": "code",
   "execution_count": 20,
   "metadata": {},
   "outputs": [
    {
     "data": {
      "text/plain": [
       "array([[ 1.],\n",
       "       [ 3.],\n",
       "       [ 5.],\n",
       "       [ 7.],\n",
       "       [ 9.],\n",
       "       [11.],\n",
       "       [13.],\n",
       "       [15.],\n",
       "       [17.],\n",
       "       [19.],\n",
       "       [21.]], dtype=float32)"
      ]
     },
     "execution_count": 20,
     "metadata": {},
     "output_type": "execute_result"
    }
   ],
   "source": [
    "# y = 2x + 1 \n",
    "y_train"
   ]
  },
  {
   "cell_type": "markdown",
   "metadata": {},
   "source": [
    "**Plot Graph**"
   ]
  },
  {
   "cell_type": "code",
   "execution_count": 21,
   "metadata": {},
   "outputs": [
    {
     "data": {
      "image/png": "[encoded data removed]",
      "text/plain": [
       "<Figure size 432x288 with 1 Axes>"
      ]
     },
     "metadata": {
      "needs_background": "light"
     },
     "output_type": "display_data"
    }
   ],
   "source": [
    "# Clear figure\n",
    "plt.clf()\n",
    "\n",
    "# Get predictions\n",
    "predicted = model(torch.from_numpy(x_train).requires_grad_()).data.numpy()\n",
    "\n",
    "# Plot true data\n",
    "plt.plot(x_train, y_train, 'go', label='True data', alpha=0.5)\n",
    "\n",
    "# Plot predictions\n",
    "plt.plot(x_train, predicted, '--', label='Predictions', alpha=0.5)\n",
    "\n",
    "# Legend and plot\n",
    "plt.legend(loc='best')\n",
    "plt.show()"
   ]
  },
  {
   "cell_type": "markdown",
   "metadata": {},
   "source": [
    "**Save Model**"
   ]
  },
  {
   "cell_type": "code",
   "execution_count": 22,
   "metadata": {},
   "outputs": [],
   "source": [
    "save_model = False\n",
    "if save_model is True:\n",
    "    # Saves only parameters\n",
    "    # alpha & beta\n",
    "    torch.save(model.state_dict(), 'awesome_model.pkl')"
   ]
  },
  {
   "cell_type": "markdown",
   "metadata": {},
   "source": [
    "**Load Model**"
   ]
  },
  {
   "cell_type": "code",
   "execution_count": 23,
   "metadata": {},
   "outputs": [],
   "source": [
    "load_model = False\n",
    "if load_model is True:\n",
    "    model.load_state_dict(torch.load('awesome_model.pkl'))"
   ]
  },
  {
   "cell_type": "markdown",
   "metadata": {},
   "source": [
    "## 3. Building a Linear Regression Model with PyTorch (GPU)\n",
    "\n"
   ]
  },
  {
   "cell_type": "markdown",
   "metadata": {},
   "source": [
    "**CPU Summary**"
   ]
  },
  {
   "cell_type": "code",
   "execution_count": 24,
   "metadata": {},
   "outputs": [],
   "source": [
    "import torch\n",
    "import torch.nn as nn\n",
    "\n",
    "'''\n",
    "STEP 1: CREATE MODEL CLASS\n",
    "'''\n",
    "class LinearRegressionModel(nn.Module):\n",
    "    def __init__(self, input_dim, output_dim):\n",
    "        super(LinearRegressionModel, self).__init__()\n",
    "        self.linear = nn.Linear(input_dim, output_dim)  \n",
    "    \n",
    "    def forward(self, x):\n",
    "        out = self.linear(x)\n",
    "        return out\n",
    "\n",
    "'''\n",
    "STEP 2: INSTANTIATE MODEL CLASS\n",
    "'''\n",
    "input_dim = 1\n",
    "output_dim = 1\n",
    "\n",
    "model = LinearRegressionModel(input_dim, output_dim)\n",
    "\n",
    "'''\n",
    "STEP 3: INSTANTIATE LOSS CLASS\n",
    "'''\n",
    "\n",
    "criterion = nn.MSELoss()\n",
    "\n",
    "'''\n",
    "STEP 4: INSTANTIATE OPTIMIZER CLASS\n",
    "'''\n",
    "\n",
    "learning_rate = 0.01\n",
    "\n",
    "optimizer = torch.optim.SGD(model.parameters(), lr=learning_rate)\n",
    "\n",
    "'''\n",
    "STEP 5: TRAIN THE MODEL\n",
    "'''\n",
    "epochs = 100\n",
    "for epoch in range(epochs):\n",
    "    epoch += 1\n",
    "    # Convert numpy array to torch Variable\n",
    "    inputs = torch.from_numpy(x_train).requires_grad_()\n",
    "    labels = torch.from_numpy(y_train)\n",
    "\n",
    "    # Clear gradients w.r.t. parameters\n",
    "    optimizer.zero_grad() \n",
    "    \n",
    "    # Forward to get output\n",
    "    outputs = model(inputs)\n",
    "    \n",
    "    # Calculate Loss\n",
    "    loss = criterion(outputs, labels)\n",
    "    \n",
    "    # Getting gradients w.r.t. parameters\n",
    "    loss.backward()\n",
    "    \n",
    "    # Updating parameters\n",
    "    optimizer.step()"
   ]
  },
  {
   "cell_type": "markdown",
   "metadata": {},
   "source": [
    "GPU: 2 things must be on GPU\n",
    "- `model`\n",
    "- `tensors with gradients`"
   ]
  },
  {
   "cell_type": "code",
   "execution_count": 26,
   "metadata": {},
   "outputs": [
    {
     "name": "stdout",
     "output_type": "stream",
     "text": [
      "epoch 1, loss 182.10244750976562\n",
      "epoch 2, loss 14.857756614685059\n",
      "epoch 3, loss 1.2160905599594116\n",
      "epoch 4, loss 0.10333549976348877\n",
      "epoch 5, loss 0.012525424361228943\n",
      "epoch 6, loss 0.0050725750625133514\n",
      "epoch 7, loss 0.004419471137225628\n",
      "epoch 8, loss 0.004321437329053879\n",
      "epoch 9, loss 0.004269206430763006\n",
      "epoch 10, loss 0.0042212288826704025\n",
      "epoch 11, loss 0.004174049943685532\n",
      "epoch 12, loss 0.004127446096390486\n",
      "epoch 13, loss 0.004081346560269594\n",
      "epoch 14, loss 0.004035779740661383\n",
      "epoch 15, loss 0.0039907051250338554\n",
      "epoch 16, loss 0.003946132026612759\n",
      "epoch 17, loss 0.003902057185769081\n",
      "epoch 18, loss 0.003858497366309166\n",
      "epoch 19, loss 0.0038154181092977524\n",
      "epoch 20, loss 0.0037728033494204283\n",
      "epoch 21, loss 0.003730679862201214\n",
      "epoch 22, loss 0.003689020872116089\n",
      "epoch 23, loss 0.003647817764431238\n",
      "epoch 24, loss 0.0036070935893803835\n",
      "epoch 25, loss 0.003566815285012126\n",
      "epoch 26, loss 0.0035269916988909245\n",
      "epoch 27, loss 0.003487611887976527\n",
      "epoch 28, loss 0.003448643023148179\n",
      "epoch 29, loss 0.0034101211931556463\n",
      "epoch 30, loss 0.00337205920368433\n",
      "epoch 31, loss 0.0033343955874443054\n",
      "epoch 32, loss 0.003297169227153063\n",
      "epoch 33, loss 0.0032603279687464237\n",
      "epoch 34, loss 0.0032239402644336224\n",
      "epoch 35, loss 0.0031879330053925514\n",
      "epoch 36, loss 0.0031523245852440596\n",
      "epoch 37, loss 0.003117126179859042\n",
      "epoch 38, loss 0.0030823289416730404\n",
      "epoch 39, loss 0.0030479091219604015\n",
      "epoch 40, loss 0.003013869281858206\n",
      "epoch 41, loss 0.0029801959171891212\n",
      "epoch 42, loss 0.002946917898952961\n",
      "epoch 43, loss 0.0029139984399080276\n",
      "epoch 44, loss 0.0028814789839088917\n",
      "epoch 45, loss 0.002849293639883399\n",
      "epoch 46, loss 0.002817498752847314\n",
      "epoch 47, loss 0.002786019118502736\n",
      "epoch 48, loss 0.002754906192421913\n",
      "epoch 49, loss 0.00272412714548409\n",
      "epoch 50, loss 0.0026937187649309635\n",
      "epoch 51, loss 0.0026636358816176653\n",
      "epoch 52, loss 0.002633872674778104\n",
      "epoch 53, loss 0.0026044792030006647\n",
      "epoch 54, loss 0.0025753865484148264\n",
      "epoch 55, loss 0.002546634990721941\n",
      "epoch 56, loss 0.0025181928649544716\n",
      "epoch 57, loss 0.002490077866241336\n",
      "epoch 58, loss 0.0024622734636068344\n",
      "epoch 59, loss 0.0024347668513655663\n",
      "epoch 60, loss 0.0024075752589851618\n",
      "epoch 61, loss 0.0023807159159332514\n",
      "epoch 62, loss 0.0023541366681456566\n",
      "epoch 63, loss 0.0023278282023966312\n",
      "epoch 64, loss 0.0023018380161374807\n",
      "epoch 65, loss 0.002276125131174922\n",
      "epoch 66, loss 0.0022507093381136656\n",
      "epoch 67, loss 0.0022255918011069298\n",
      "epoch 68, loss 0.0022007389925420284\n",
      "epoch 69, loss 0.00217617629095912\n",
      "epoch 70, loss 0.0021518482826650143\n",
      "epoch 71, loss 0.002127836225554347\n",
      "epoch 72, loss 0.0021040632855147123\n",
      "epoch 73, loss 0.002080571139231324\n",
      "epoch 74, loss 0.002057328587397933\n",
      "epoch 75, loss 0.002034347504377365\n",
      "epoch 76, loss 0.0020116469822824\n",
      "epoch 77, loss 0.001989168580621481\n",
      "epoch 78, loss 0.0019669474568217993\n",
      "epoch 79, loss 0.0019450015388429165\n",
      "epoch 80, loss 0.0019232715712860227\n",
      "epoch 81, loss 0.001901801791973412\n",
      "epoch 82, loss 0.0018805504078045487\n",
      "epoch 83, loss 0.0018595588626340032\n",
      "epoch 84, loss 0.0018387956079095602\n",
      "epoch 85, loss 0.0018182671628892422\n",
      "epoch 86, loss 0.001797961420379579\n",
      "epoch 87, loss 0.0017778797773644328\n",
      "epoch 88, loss 0.0017580055864527822\n",
      "epoch 89, loss 0.0017384078819304705\n",
      "epoch 90, loss 0.001718998304568231\n",
      "epoch 91, loss 0.0016997808124870062\n",
      "epoch 92, loss 0.0016808168729767203\n",
      "epoch 93, loss 0.00166204699780792\n",
      "epoch 94, loss 0.0016434788703918457\n",
      "epoch 95, loss 0.0016251178458333015\n",
      "epoch 96, loss 0.0016069784760475159\n",
      "epoch 97, loss 0.0015890297945588827\n",
      "epoch 98, loss 0.001571301487274468\n",
      "epoch 99, loss 0.0015537358121946454\n",
      "epoch 100, loss 0.0015364018036052585\n"
     ]
    }
   ],
   "source": [
    "import torch\n",
    "import torch.nn as nn\n",
    "import numpy as np\n",
    "\n",
    "'''\n",
    "STEP 1: CREATE MODEL CLASS\n",
    "'''\n",
    "class LinearRegressionModel(nn.Module):\n",
    "    def __init__(self, input_dim, output_dim):\n",
    "        super(LinearRegressionModel, self).__init__()\n",
    "        self.linear = nn.Linear(input_dim, output_dim)  \n",
    "    \n",
    "    def forward(self, x):\n",
    "        out = self.linear(x)\n",
    "        return out\n",
    "\n",
    "'''\n",
    "STEP 2: INSTANTIATE MODEL CLASS\n",
    "'''\n",
    "input_dim = 1\n",
    "output_dim = 1\n",
    "\n",
    "model = LinearRegressionModel(input_dim, output_dim)\n",
    "\n",
    "\n",
    "#######################\n",
    "#  USE GPU FOR MODEL  #\n",
    "#######################\n",
    "\n",
    "device = torch.device(\"cuda:0\" if torch.cuda.is_available() else \"cpu\")\n",
    "model.to(device)\n",
    "\n",
    "'''\n",
    "STEP 3: INSTANTIATE LOSS CLASS\n",
    "'''\n",
    "\n",
    "criterion = nn.MSELoss()\n",
    "\n",
    "'''\n",
    "STEP 4: INSTANTIATE OPTIMIZER CLASS\n",
    "'''\n",
    "\n",
    "learning_rate = 0.01\n",
    "\n",
    "optimizer = torch.optim.SGD(model.parameters(), lr=learning_rate)\n",
    "\n",
    "'''\n",
    "STEP 5: TRAIN THE MODEL\n",
    "'''\n",
    "epochs = 100\n",
    "for epoch in range(epochs):\n",
    "    epoch += 1\n",
    "    # Convert numpy array to torch Variable\n",
    "    \n",
    "    #######################\n",
    "    #  USE GPU FOR MODEL  #\n",
    "    #######################\n",
    "    inputs = torch.from_numpy(x_train).to(device)\n",
    "    labels = torch.from_numpy(y_train).to(device)\n",
    "    \n",
    "    # Clear gradients w.r.t. parameters\n",
    "    optimizer.zero_grad() \n",
    "    \n",
    "    # Forward to get output\n",
    "    outputs = model(inputs)\n",
    "    \n",
    "    # Calculate Loss\n",
    "    loss = criterion(outputs, labels)\n",
    "    \n",
    "    # Getting gradients w.r.t. parameters\n",
    "    loss.backward()\n",
    "    \n",
    "    # Updating parameters\n",
    "    optimizer.step()\n",
    "    \n",
    "    # Logging\n",
    "    print('epoch {}, loss {}'.format(epoch, loss.item()))"
   ]
  },
  {
   "cell_type": "code",
   "execution_count": 28,
   "metadata": {},
   "outputs": [
    {
     "data": {
      "text/plain": [
       "device(type='cpu')"
      ]
     },
     "execution_count": 28,
     "metadata": {},
     "output_type": "execute_result"
    }
   ],
   "source": [
    "device"
   ]
  },
  {
   "cell_type": "markdown",
   "metadata": {},
   "source": [
    "# Summary"
   ]
  },
  {
   "cell_type": "markdown",
   "metadata": {},
   "source": [
    "- Simple **linear regression basics**\n",
    "    - $y = Ax + B$\n",
    "    - $y = 2x + 1$\n",
    "- **Example** of simple linear regression\n",
    "- **Aim** of linear regression\n",
    "    - Minimizing distance between the points and the line\n",
    "        - Calculate \"distance\" through `MSE`\n",
    "        - Calculate `gradients`\n",
    "        - Update parameters with `parameters = parameters - learning_rate * gradients`\n",
    "        - Slowly update parameters $A$ and $B$ model the linear relationship between $y$ and $x$ of the form $y = 2x + 1$\n",
    "- Built a linear regression **model** in **CPU and GPU**\n",
    "    - Step 1: Create Model Class\n",
    "    - Step 2: Instantiate Model Class\n",
    "    - Step 3: Instantiate Loss Class\n",
    "    - Step 4: Instantiate Optimizer Class\n",
    "    - Step 5: Train Model\n",
    "- Important things to be on **GPU**\n",
    "    - `model`\n",
    "    - `tensors with gradients`\n",
    "- How to bring to **GPU**?\n",
    "    - `model_name.cuda()`\n",
    "    - `variable_name.cuda()`"
   ]
  }
 ],
 "metadata": {
  "anaconda-cloud": {},
  "kernelspec": {
   "display_name": "Python 3",
   "language": "python",
   "name": "python3"
  },
  "language_info": {
   "codemirror_mode": {
    "name": "ipython",
    "version": 3
   },
   "file_extension": ".py",
   "mimetype": "text/x-python",
   "name": "python",
   "nbconvert_exporter": "python",
   "pygments_lexer": "ipython3",
   "version": "3.6.5"
  }
 },
 "nbformat": 4,
 "nbformat_minor": 1
}
